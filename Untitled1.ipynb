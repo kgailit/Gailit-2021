{
 "cells": [
  {
   "cell_type": "code",
   "execution_count": 1,
   "id": "outstanding-kennedy",
   "metadata": {},
   "outputs": [],
   "source": [
    "from estnltk import Text"
   ]
  },
  {
   "cell_type": "code",
   "execution_count": 10,
   "id": "engaged-exemption",
   "metadata": {},
   "outputs": [
    {
     "name": "stdout",
     "output_type": "stream",
     "text": [
      "{'partofspeech': 'S', 'clitic': '', 'root': 'pelan', 'form': 'sg n', 'root_tokens': ['pelan'], 'lemma': 'pelan', 'ending': '0'}\n",
      "{'partofspeech': 'S', 'clitic': '', 'root': 'minecraft', 'form': 'sg g', 'root_tokens': ['minecraft'], 'lemma': 'minecraft', 'ending': '0'}\n",
      "{'partofspeech': 'S', 'clitic': '', 'root': 'minecrafti', 'form': 'sg g', 'root_tokens': ['minecrafti'], 'lemma': 'minecrafti', 'ending': '0'}\n",
      "{'partofspeech': 'S', 'clitic': '', 'root': 'minecrafti', 'form': 'sg n', 'root_tokens': ['minecrafti'], 'lemma': 'minecrafti', 'ending': '0'}\n",
      "{'partofspeech': 'P', 'clitic': '', 'root': 'iga', 'form': 'sg g', 'root_tokens': ['iga'], 'lemma': 'iga', 'ending': '0'}\n",
      "{'partofspeech': 'P', 'clitic': '', 'root': 'iga', 'form': 'sg n', 'root_tokens': ['iga'], 'lemma': 'iga', 'ending': '0'}\n",
      "{'partofspeech': 'P', 'clitic': '', 'root': 'iga', 'form': 'sg p', 'root_tokens': ['iga'], 'lemma': 'iga', 'ending': '0'}\n",
      "{'partofspeech': 'S', 'clitic': '', 'root': 'iga', 'form': 'sg n', 'root_tokens': ['iga'], 'lemma': 'iga', 'ending': '0'}\n",
      "{'partofspeech': 'S', 'clitic': '', 'root': 'iga', 'form': 'sg p', 'root_tokens': ['iga'], 'lemma': 'iga', 'ending': '0'}\n",
      "{'partofspeech': 'S', 'clitic': '', 'root': 'õhtu', 'form': 'sg g', 'root_tokens': ['õhtu'], 'lemma': 'õhtu', 'ending': '0'}\n",
      "{'partofspeech': 'S', 'clitic': '', 'root': 'õhtu', 'form': 'sg n', 'root_tokens': ['õhtu'], 'lemma': 'õhtu', 'ending': '0'}\n"
     ]
    }
   ],
   "source": [
    "oletamisega = Text(\"pelan minecrafti iga õhtu\", disambiguate=False, guess=False)\n",
    "\n",
    "oletamisega.analysis\n",
    "\n",
    "for sentence in oletamisega.split_by_sentences():\n",
    "    for word in sentence.words:\n",
    "        for analysis in word[\"analysis\"]:\n",
    "            # Kui tegu on pärisnimega\n",
    "            print(analysis)"
   ]
  },
  {
   "cell_type": "code",
   "execution_count": null,
   "id": "double-poster",
   "metadata": {},
   "outputs": [],
   "source": []
  }
 ],
 "metadata": {
  "kernelspec": {
   "display_name": "Python 3",
   "language": "python",
   "name": "python3"
  },
  "language_info": {
   "codemirror_mode": {
    "name": "ipython",
    "version": 3
   },
   "file_extension": ".py",
   "mimetype": "text/x-python",
   "name": "python",
   "nbconvert_exporter": "python",
   "pygments_lexer": "ipython3",
   "version": "3.5.6"
  }
 },
 "nbformat": 4,
 "nbformat_minor": 5
}
