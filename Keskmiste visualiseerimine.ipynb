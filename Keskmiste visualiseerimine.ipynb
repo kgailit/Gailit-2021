{
 "cells": [
  {
   "cell_type": "code",
   "execution_count": 2,
   "id": "logical-lafayette",
   "metadata": {},
   "outputs": [],
   "source": [
    "import json\n",
    "import os\n",
    "import pandas as pd\n",
    "import matplotlib.pyplot as plt\n",
    "import numpy as np"
   ]
  },
  {
   "cell_type": "code",
   "execution_count": 5,
   "id": "cognitive-carbon",
   "metadata": {},
   "outputs": [],
   "source": [
    "andmestik = None\n",
    "\n",
    "# Avab järjest kõik failid algkaustas\n",
    "for file in [f for f in os.listdir(\"etnc19_web_2019_andmed/\")]:\n",
    "    filename = os.path.join(\"etnc19_web_2019_andmed/\", file)\n",
    "    with open(filename, \"r\", encoding = \"utf-8\") as fr:\n",
    "        andmed = json.load(fr)\n",
    "        \n",
    "        if andmestik is None:\n",
    "            andmestik = pd.DataFrame.from_dict([andmed])\n",
    "        else:\n",
    "            andmestik = andmestik.append(pd.DataFrame.from_dict([andmed]), ignore_index=True)"
   ]
  },
  {
   "cell_type": "code",
   "execution_count": 6,
   "id": "understanding-world",
   "metadata": {},
   "outputs": [],
   "source": [
    "for tunnus in andmestik:\n",
    "\n",
    "    andmed = andmestik.loc[andmestik[tunnus] != -1][tunnus].sort_values()\n",
    "    \n",
    "    plt.hist(andmed, bins = 500)\n",
    "    \n",
    "    plt.rcParams[\"figure.figsize\"] = (20,10)\n",
    "    \n",
    "    #plt.xticks([x * 0.1 for x in range(10)])\n",
    "    \n",
    "    plt.title(\"Alamkorpuse \" + tunnus)\n",
    "    \n",
    "    keskmine = andmed.mean()\n",
    "    \n",
    "    plt.axvline(keskmine, color='red', linestyle='dashed', linewidth=1)\n",
    "    \n",
    "    min_ylim, max_ylim = plt.ylim()\n",
    "    plt.text(keskmine, max_ylim*1.01, 'Mean: {:.2f}'.format(keskmine), color='red')\n",
    "    \n",
    "    \n",
    "    if tunnus in ['TTR', 'lemmapikkuse_osaarv', 'käändsõnade_osaarv']:\n",
    "        plt.figtext(0.5, -0.3, \"{}\".format(andmed.describe(percentiles=(0,0.09,0.18,0.27,0.36,0.45,0.55,0.64,0.73,0.82,0.91,1))), style='italic',\n",
    "            bbox={'facecolor': 'red', 'alpha': 0, 'pad': 10})\n",
    "    else:\n",
    "        plt.figtext(0.5, -0.3, \"{}\".format(andmed.describe(percentiles=np.arange(0, 1, 1/6))), style='italic',\n",
    "            bbox={'facecolor': 'red', 'alpha': 0, 'pad': 10})\n",
    "    \n",
    "    plt.savefig('Graafid/{}.png'.format(tunnus), bbox_inches='tight')\n",
    "    \n",
    "    plt.close()"
   ]
  },
  {
   "cell_type": "markdown",
   "id": "speaking-strategy",
   "metadata": {},
   "source": [
    "Skooride keskmised"
   ]
  },
  {
   "cell_type": "code",
   "execution_count": null,
   "id": "impressive-proceeding",
   "metadata": {},
   "outputs": [],
   "source": [
    "skooristik = None\n",
    "\n",
    "# Avab järjest kõik failid algkaustas\n",
    "for file in [f for f in os.listdir(\"etnc19_web_2019_skoorid/\")]:\n",
    "    filename = os.path.join(\"etnc19_web_2019_skoorid/\", file)\n",
    "    with open(filename, \"r\", encoding = \"utf-8\") as fr:\n",
    "        andmed = json.load(fr)\n",
    "        \n",
    "        if skooristik is None:\n",
    "            skooristik = pd.DataFrame.from_dict([andmed])\n",
    "        else:\n",
    "            skooristik = skooristik.append(pd.DataFrame.from_dict([andmed]), ignore_index=True)"
   ]
  },
  {
   "cell_type": "code",
   "execution_count": null,
   "id": "blind-citizenship",
   "metadata": {},
   "outputs": [],
   "source": [
    "for tunnus in skooristik:\n",
    "\n",
    "    andmed = skooristik.loc[skooristik[tunnus] != -1][tunnus].sort_values()\n",
    "    \n",
    "    plt.hist(andmed, bins = 1000)\n",
    "    \n",
    "    plt.rcParams[\"figure.figsize\"] = (20,10)\n",
    "    \n",
    "    #plt.xticks([x * 0.1 for x in range(10)])\n",
    "    \n",
    "    plt.title(\"Skoor tunnusest: \" + tunnus)\n",
    "    \n",
    "    keskmine = andmed.mean()\n",
    "    \n",
    "    plt.savefig('Graafid/skoorid/{}.png'.format(tunnus), bbox_inches='tight')\n",
    "    \n",
    "    plt.close()"
   ]
  },
  {
   "cell_type": "markdown",
   "id": "dying-trigger",
   "metadata": {},
   "source": [
    "Temp"
   ]
  },
  {
   "cell_type": "code",
   "execution_count": null,
   "id": "central-technician",
   "metadata": {},
   "outputs": [],
   "source": [
    "# Keskmistest varieerimise arvutamine\n",
    "andmed[\"TTR_varieerumine\"] = meta_info[\"TTR\"] - keskmised['TTR']\n",
    "andmed[\"käändsõnade_varieerumine\"] = meta_info[\"käänduvate_lemmade_osaarv\"] - keskmised['käänduvate_lemmade_osaarv']\n",
    "andmed[\"lemmapikkuse_varieerumine\"] = meta_info[\"keskmine_lemma_pikkus\"] - keskmised['keskmine_lemma_pikkus']"
   ]
  }
 ],
 "metadata": {
  "kernelspec": {
   "display_name": "Python 3",
   "language": "python",
   "name": "python3"
  },
  "language_info": {
   "codemirror_mode": {
    "name": "ipython",
    "version": 3
   },
   "file_extension": ".py",
   "mimetype": "text/x-python",
   "name": "python",
   "nbconvert_exporter": "python",
   "pygments_lexer": "ipython3",
   "version": "3.5.6"
  }
 },
 "nbformat": 4,
 "nbformat_minor": 5
}
