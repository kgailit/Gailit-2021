{
 "cells": [
  {
   "cell_type": "code",
   "execution_count": 1,
   "id": "numerous-astrology",
   "metadata": {},
   "outputs": [],
   "source": [
    "from estnltk import Text"
   ]
  },
  {
   "cell_type": "code",
   "execution_count": 12,
   "id": "earned-justice",
   "metadata": {},
   "outputs": [
    {
     "name": "stdout",
     "output_type": "stream",
     "text": [
      "{'root_tokens': ['E'], 'clitic': '', 'partofspeech': 'Y', 'root': 'E', 'ending': '0', 'form': '?', 'lemma': 'E'}\n",
      "{'root_tokens': [','], 'clitic': '', 'partofspeech': 'Z', 'root': ',', 'ending': '', 'form': '', 'lemma': ','}\n",
      "{'root_tokens': ['USA'], 'clitic': '', 'partofspeech': 'Y', 'root': 'USA', 'ending': '0', 'form': '?', 'lemma': 'USA'}\n",
      "{'root_tokens': [','], 'clitic': '', 'partofspeech': 'Z', 'root': ',', 'ending': '', 'form': '', 'lemma': ','}\n",
      "{'root_tokens': ['EU'], 'clitic': '', 'partofspeech': 'Y', 'root': 'EU', 'ending': '0', 'form': '?', 'lemma': 'EU'}\n",
      "{'root_tokens': [','], 'clitic': '', 'partofspeech': 'Z', 'root': ',', 'ending': '', 'form': '', 'lemma': ','}\n",
      "{'root_tokens': ['Maja'], 'clitic': '', 'partofspeech': 'H', 'root': 'Maja', 'ending': '0', 'form': 'sg g', 'lemma': 'Maja'}\n",
      "{'root_tokens': ['Maja'], 'clitic': '', 'partofspeech': 'H', 'root': 'Maja', 'ending': '0', 'form': 'sg g', 'lemma': 'Maja'}\n",
      "{'root_tokens': ['Maja'], 'clitic': '', 'partofspeech': 'H', 'root': 'Maja', 'ending': '0', 'form': 'sg n', 'lemma': 'Maja'}\n",
      "{'root_tokens': ['Maja'], 'clitic': '', 'partofspeech': 'H', 'root': 'Maja', 'ending': '0', 'form': 'sg n', 'lemma': 'Maja'}\n",
      "{'root_tokens': ['Maja'], 'clitic': '', 'partofspeech': 'H', 'root': 'Maja', 'ending': '0', 'form': 'sg p', 'lemma': 'Maja'}\n",
      "{'root_tokens': ['maja'], 'clitic': '', 'partofspeech': 'S', 'root': 'maja', 'ending': '0', 'form': 'sg g', 'lemma': 'maja'}\n",
      "{'root_tokens': ['maja'], 'clitic': '', 'partofspeech': 'S', 'root': 'maja', 'ending': '0', 'form': 'sg n', 'lemma': 'maja'}\n",
      "{'root_tokens': ['maja'], 'clitic': '', 'partofspeech': 'S', 'root': 'maja', 'ending': '0', 'form': 'sg p', 'lemma': 'maja'}\n",
      "{'root_tokens': [','], 'clitic': '', 'partofspeech': 'Z', 'root': ',', 'ending': '', 'form': '', 'lemma': ','}\n",
      "{'root_tokens': ['mina'], 'clitic': '', 'partofspeech': 'P', 'root': 'mina', 'ending': '0', 'form': 'sg n', 'lemma': 'mina'}\n",
      "{'root_tokens': ['vihka'], 'clitic': '', 'partofspeech': 'V', 'root': 'vihka', 'ending': 'n', 'form': 'n', 'lemma': 'vihkama'}\n"
     ]
    }
   ],
   "source": [
    "oletamisega = Text(\"E, USA, EU, MAJA, MA VIHKAN\", disambiguate=False, guess=False)\n",
    "\n",
    "oletamisega.analysis\n",
    "\n",
    "for sentence in oletamisega.split_by_sentences():\n",
    "    for word in sentence.words:\n",
    "        for analysis in word[\"analysis\"]:\n",
    "            # Kui tegu on pärisnimega\n",
    "            print(analysis)"
   ]
  },
  {
   "cell_type": "code",
   "execution_count": null,
   "id": "binding-alert",
   "metadata": {},
   "outputs": [],
   "source": []
  }
 ],
 "metadata": {
  "kernelspec": {
   "display_name": "Python 3",
   "language": "python",
   "name": "python3"
  },
  "language_info": {
   "codemirror_mode": {
    "name": "ipython",
    "version": 3
   },
   "file_extension": ".py",
   "mimetype": "text/x-python",
   "name": "python",
   "nbconvert_exporter": "python",
   "pygments_lexer": "ipython3",
   "version": "3.5.6"
  }
 },
 "nbformat": 4,
 "nbformat_minor": 5
}
