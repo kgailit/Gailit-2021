{
 "cells": [
  {
   "cell_type": "code",
   "execution_count": 1,
   "id": "bacterial-philip",
   "metadata": {},
   "outputs": [],
   "source": [
    "import requests\n",
    "\n",
    "URL = 'https://estnltk.github.io/estnltk/1.4/tutorials/morf_tables.html'\n",
    "page = requests.get(URL)"
   ]
  },
  {
   "cell_type": "code",
   "execution_count": 4,
   "id": "collective-wilson",
   "metadata": {},
   "outputs": [],
   "source": [
    "from bs4 import BeautifulSoup\n",
    "soup = BeautifulSoup(page.content, 'html.parser')\n",
    "\n",
    "results = soup.find(id='table-verb-form-descriptions')"
   ]
  },
  {
   "cell_type": "code",
   "execution_count": 7,
   "id": "seventh-million",
   "metadata": {},
   "outputs": [],
   "source": [
    "table = results.find('table')"
   ]
  },
  {
   "cell_type": "code",
   "execution_count": 9,
   "id": "induced-difficulty",
   "metadata": {},
   "outputs": [],
   "source": [
    "import pandas as pd\n",
    "\n",
    "df = pd.read_html(str(table))[0]"
   ]
  },
  {
   "cell_type": "code",
   "execution_count": 24,
   "id": "modern-residence",
   "metadata": {},
   "outputs": [],
   "source": [
    "kolmas = set(df[df['Description'].str.contains(\"3. isik\")]['Form'])\n",
    "teine = set(df[df['Description'].str.contains(\"2. isik\")]['Form'])\n",
    "esimene = set(df[df['Description'].str.contains(\"1. isik\")]['Form'])"
   ]
  },
  {
   "cell_type": "code",
   "execution_count": 35,
   "id": "filled-spanking",
   "metadata": {},
   "outputs": [],
   "source": [
    "kolmas_kordusdeta = list(kolmas - teine - esimene)\n",
    "teine_kordusdeta = list(teine - esimene - kolmas)\n",
    "esimene_kordusdeta = list(esimene - kolmas - teine)"
   ]
  },
  {
   "cell_type": "code",
   "execution_count": 38,
   "id": "differential-pension",
   "metadata": {},
   "outputs": [
    {
     "data": {
      "text/plain": [
       "['sime', 'me', 'nuksime', 'nuksin', 'gem', 'ksin', 'n', 'sin', 'ksime']"
      ]
     },
     "execution_count": 38,
     "metadata": {},
     "output_type": "execute_result"
    }
   ],
   "source": [
    "[suffiks for suffiks in esimene_kordusdeta if \" \" not in suffiks]"
   ]
  },
  {
   "cell_type": "code",
   "execution_count": 39,
   "id": "front-shannon",
   "metadata": {},
   "outputs": [
    {
     "data": {
      "text/plain": [
       "['te', 'o', 'nuksite', 'd', 'site', 'ge', 'ksite']"
      ]
     },
     "execution_count": 39,
     "metadata": {},
     "output_type": "execute_result"
    }
   ],
   "source": [
    "[suffiks for suffiks in teine_kordusdeta if \" \" not in suffiks]"
   ]
  },
  {
   "cell_type": "code",
   "execution_count": 40,
   "id": "swedish-cancellation",
   "metadata": {},
   "outputs": [
    {
     "data": {
      "text/plain": [
       "['s', 'gu', 'vad', 'b']"
      ]
     },
     "execution_count": 40,
     "metadata": {},
     "output_type": "execute_result"
    }
   ],
   "source": [
    "[suffiks for suffiks in kolmas_kordusdeta if \" \" not in suffiks]"
   ]
  }
 ],
 "metadata": {
  "kernelspec": {
   "display_name": "Python 3",
   "language": "python",
   "name": "python3"
  },
  "language_info": {
   "codemirror_mode": {
    "name": "ipython",
    "version": 3
   },
   "file_extension": ".py",
   "mimetype": "text/x-python",
   "name": "python",
   "nbconvert_exporter": "python",
   "pygments_lexer": "ipython3",
   "version": "3.5.6"
  }
 },
 "nbformat": 4,
 "nbformat_minor": 5
}
