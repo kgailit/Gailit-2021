{
 "cells": [
  {
   "cell_type": "code",
   "execution_count": null,
   "id": "british-relations",
   "metadata": {},
   "outputs": [],
   "source": [
    "# Keskmistest varieerimise arvutamine\n",
    "andmed[\"TTR_varieerumine\"] = meta_info[\"TTR\"] - keskmised['TTR']\n",
    "andmed[\"käändsõnade_varieerumine\"] = meta_info[\"käänduvate_lemmade_osaarv\"] - keskmised['käänduvate_lemmade_osaarv']\n",
    "andmed[\"lemmapikkuse_varieerumine\"] = meta_info[\"keskmine_lemma_pikkus\"] - keskmised['keskmine_lemma_pikkus']"
   ]
  }
 ],
 "metadata": {
  "kernelspec": {
   "display_name": "Python 3",
   "language": "python",
   "name": "python3"
  },
  "language_info": {
   "codemirror_mode": {
    "name": "ipython",
    "version": 3
   },
   "file_extension": ".py",
   "mimetype": "text/x-python",
   "name": "python",
   "nbconvert_exporter": "python",
   "pygments_lexer": "ipython3",
   "version": "3.5.6"
  }
 },
 "nbformat": 4,
 "nbformat_minor": 5
}
